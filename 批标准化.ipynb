{
 "cells": [
  {
   "cell_type": "code",
   "execution_count": 1,
   "metadata": {},
   "outputs": [],
   "source": [
    "import tensorflow as tf"
   ]
  },
  {
   "cell_type": "markdown",
   "metadata": {},
   "source": [
    "### 优点\n",
    "批标准化通过规范化让激活函数分布在线性区间，结果就是加大了梯度，让模型更加大胆\n",
    "地进行梯度下降，于是有如下优点:\n",
    "+ 加大探索的步长，加快收敛的速度\n",
    "+ 更容易跳出局部最优\n",
    "+ 破坏原始数据分布，一定程度上缓解过拟合\n",
    "\n",
    "因此，在遇到神经网络收敛速度很慢或梯度爆炸(gradient explode)等无法训练的情况下， 都可以尝试用批标准化来解决"
   ]
  },
  {
   "cell_type": "markdown",
   "metadata": {},
   "source": [
    "> tf.nn.moments(x, axes想要标准化的维度, name=None, keep_dims=False) ⇒ mean, variance：\n",
    "\n",
    "\n",
    "\n",
    "> tf.nn.batch_normalization(x, mean, variance, offset, scale, variance_epsilon, name=None)"
   ]
  },
  {
   "cell_type": "code",
   "execution_count": null,
   "metadata": {},
   "outputs": [],
   "source": [
    "mean,variance = tf.nn.moments(x,axes=[0])\n",
    "scale = tf.Variable(tf.ones([out_size]))\n",
    "shift = tf.Variable(tf.zeros([out_size]))\n",
    "epsilon = 0.001\n",
    "x = tf.nn.batch_normalization(x,mean,variance,shift,scale,epsilon)"
   ]
  },
  {
   "cell_type": "markdown",
   "metadata": {},
   "source": [
    "#### 上面干了啥\n",
    "\n",
    "x = (x-mean)/tf.sqrt(variance+0.001)\n",
    "\n",
    "x = x*scale+shift"
   ]
  },
  {
   "cell_type": "code",
   "execution_count": null,
   "metadata": {},
   "outputs": [],
   "source": []
  }
 ],
 "metadata": {
  "kernelspec": {
   "display_name": "Python 3",
   "language": "python",
   "name": "python3"
  },
  "language_info": {
   "codemirror_mode": {
    "name": "ipython",
    "version": 3
   },
   "file_extension": ".py",
   "mimetype": "text/x-python",
   "name": "python",
   "nbconvert_exporter": "python",
   "pygments_lexer": "ipython3",
   "version": "3.6.1"
  }
 },
 "nbformat": 4,
 "nbformat_minor": 2
}
