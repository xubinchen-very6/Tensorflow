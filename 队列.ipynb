{
 "cells": [
  {
   "cell_type": "code",
   "execution_count": 1,
   "metadata": {},
   "outputs": [],
   "source": [
    "import tensorflow as tf"
   ]
  },
  {
   "cell_type": "markdown",
   "metadata": {},
   "source": [
    "### tensorflow中有两种队列：\n",
    "+ FIFOQueue\n",
    "+ RandomShuffleQueue\n",
    "\n",
    "\n",
    ">_FIFOQueue_ 创建一个先入先出队列\n",
    "\n",
    "我们在训练一些语音、文字样本时，使用循环神经网络的网络结构，希望读入的训练样本是有序的，就要用 _FIFOQueue_。\n",
    "\n",
    ">_RandomShuffleQueue_ 创建一个随机队列，在出队列时，是以随机的顺序产生元素的\n",
    "\n",
    "我们在训练一些图像样本时，使用 CNN 的网络结构，希望可以无序地读入训练样本，就要用 _RandomShuffleQueue_，每次随机产生一个训练样本。"
   ]
  },
  {
   "cell_type": "code",
   "execution_count": 2,
   "metadata": {},
   "outputs": [],
   "source": [
    "q = tf.FIFOQueue(3,'float')\n",
    "init=q.enqueue_many(([.1,.2,.3],))\n",
    "x=q.dequeue()       #出队\n",
    "y=x+1               #+1\n",
    "q_inc=q.enqueue([y])#入队"
   ]
  },
  {
   "cell_type": "code",
   "execution_count": 3,
   "metadata": {},
   "outputs": [
    {
     "name": "stdout",
     "output_type": "stream",
     "text": [
      "0.3\n",
      "1.1\n",
      "1.2\n"
     ]
    }
   ],
   "source": [
    "with tf.Session() as sess:\n",
    "    sess.run(init)\n",
    "    quelen = sess.run(q.size())\n",
    "    for i in range(2):\n",
    "        sess.run(q_inc)\n",
    "    quelen = sess.run(q.size())\n",
    "    for i in range(quelen):\n",
    "        print(sess.run(q.dequeue()))"
   ]
  },
  {
   "cell_type": "markdown",
   "metadata": {},
   "source": [
    "RandomShuffleQueue 在 TensorFlow 使用异步计算时非常重要。因为 TensorFlow 的会话是 支持多线程的，我们可以在主线程里执行训练操作，使用 RandomShuffleQueue 作为训练输入， 开多个线程来准备训练样本，将样本压入队列后，主线程会从队列中每次取出 mini-batch 的样 本进行训练"
   ]
  },
  {
   "cell_type": "code",
   "execution_count": 4,
   "metadata": {},
   "outputs": [],
   "source": [
    "q = tf.RandomShuffleQueue(capacity=10,min_after_dequeue=2,dtypes='float')"
   ]
  },
  {
   "cell_type": "code",
   "execution_count": 5,
   "metadata": {},
   "outputs": [
    {
     "name": "stdout",
     "output_type": "stream",
     "text": [
      "6.0\n",
      "2.0\n",
      "7.0\n",
      "0.0\n",
      "4.0\n",
      "8.0\n",
      "5.0\n",
      "1.0\n"
     ]
    }
   ],
   "source": [
    "sess = tf.Session()\n",
    "for i in range(0,10):\n",
    "    sess.run(q.enqueue(i))\n",
    "for i in range(0,8):\n",
    "    print(sess.run(q.dequeue()))"
   ]
  },
  {
   "cell_type": "markdown",
   "metadata": {},
   "source": [
    "#### 阻断现象\n",
    "+ 队列长度等于最小值，执行出队操作\n",
    "+ 队列长度等于最大值，执行入队操作\n",
    "\n",
    "只有队列满足要求后才能继续执行，可以通过设置session在运行时的等待时间来解除阻断"
   ]
  },
  {
   "cell_type": "code",
   "execution_count": 6,
   "metadata": {},
   "outputs": [
    {
     "name": "stdout",
     "output_type": "stream",
     "text": [
      "out of range\n"
     ]
    }
   ],
   "source": [
    "run_options=tf.RunOptions(timeout_in_ms=10000)\n",
    "try:\n",
    "    sess.run(q.dequeue(),options=run_options)\n",
    "except tf.errors.DeadlineExceededError:\n",
    "    print('out of range')"
   ]
  },
  {
   "cell_type": "code",
   "execution_count": null,
   "metadata": {},
   "outputs": [],
   "source": []
  }
 ],
 "metadata": {
  "kernelspec": {
   "display_name": "Python 3",
   "language": "python",
   "name": "python3"
  },
  "language_info": {
   "codemirror_mode": {
    "name": "ipython",
    "version": 3
   },
   "file_extension": ".py",
   "mimetype": "text/x-python",
   "name": "python",
   "nbconvert_exporter": "python",
   "pygments_lexer": "ipython3",
   "version": "3.6.1"
  }
 },
 "nbformat": 4,
 "nbformat_minor": 2
}
