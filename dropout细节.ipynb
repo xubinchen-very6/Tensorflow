{
 "cells": [
  {
   "cell_type": "code",
   "execution_count": 1,
   "metadata": {},
   "outputs": [],
   "source": [
    "import tensorflow as tf"
   ]
  },
  {
   "cell_type": "markdown",
   "metadata": {},
   "source": [
    "_dropout_ 函数:\n",
    "\n",
    "> 一个神经元将以概率 _keep_prob_ 决定是否被抑制。\n",
    "+ 如果被抑制，该神经 元的输出就为 0;\n",
    "+ 如果不被抑制，那么该神经元的输出值将被放大到原来的 __1/keep_prob__ 倍"
   ]
  },
  {
   "cell_type": "code",
   "execution_count": 9,
   "metadata": {},
   "outputs": [
    {
     "name": "stdout",
     "output_type": "stream",
     "text": [
      "[1 4]\n",
      "[[-0.  0.  0.  8.]]\n",
      "[[-2.  4.  6.  8.]]\n"
     ]
    }
   ],
   "source": [
    "a = tf.constant([[-1.,2.,3.,4.]])\n",
    "with tf.Session() as sess:\n",
    "    print(sess.run(tf.shape(a)))\n",
    "    b = tf.nn.dropout(a,0.5,noise_shape=[1,4])\n",
    "    print(sess.run(b))\n",
    "    b = tf.nn.dropout(a,0.5,noise_shape=[1,1])\n",
    "    print(sess.run(b))"
   ]
  }
 ],
 "metadata": {
  "kernelspec": {
   "display_name": "Python 3",
   "language": "python",
   "name": "python3"
  },
  "language_info": {
   "codemirror_mode": {
    "name": "ipython",
    "version": 3
   },
   "file_extension": ".py",
   "mimetype": "text/x-python",
   "name": "python",
   "nbconvert_exporter": "python",
   "pygments_lexer": "ipython3",
   "version": "3.6.1"
  }
 },
 "nbformat": 4,
 "nbformat_minor": 2
}
