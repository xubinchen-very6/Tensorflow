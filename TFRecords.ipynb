{
 "cells": [
  {
   "cell_type": "code",
   "execution_count": 1,
   "metadata": {},
   "outputs": [],
   "source": [
    "import tensorflow as tf"
   ]
  },
  {
   "cell_type": "markdown",
   "metadata": {},
   "source": [
    "### Tensorflow 从文件读取数据\n",
    "+ 把样本数据写入TFRecords二进制文件；\n",
    "+ 再从队列中读取\n",
    "\n",
    "__TFRecords__ 是一种二进制文件，能更好地利用内存，更方便地复制和移动，并且不需要单独的 标记文件\n",
    "\n",
    "\n",
    "#### 1.生成TFRecords文件"
   ]
  },
  {
   "cell_type": "code",
   "execution_count": 4,
   "metadata": {},
   "outputs": [],
   "source": [
    "def main(unused_argv):\n",
    "    #获取数据\n",
    "    data_sets = mnist.read_data_sets(FLAGS.dictory,\n",
    "                                     dtype = tf.uint8,\n",
    "                                     reshape = False,\n",
    "                                     validation_size = FLAGS.validation_size)\n",
    "    #将数据转换为tf.train.Example类型并写入TFRecords文件\n",
    "    convert_to(data_sets.train,'train')\n",
    "    convert_to(data_sets.validation,'validation')\n",
    "    convert_to(data_sets.test,'test')\n",
    "    \n",
    "def convert_to(data_set,name):\n",
    "    images = data_set.images\n",
    "    labels = data_set.labels\n",
    "    num_examples = data_set.num_examples #55000个训练数据，5000个验证数据，10000个测试数据\n",
    "    \n",
    "    if images.shape[0] != num_examples:\n",
    "        raise ValueError('Images size %d does not match label size %d'%(images.shape[0],num_examples))\n",
    "    rows = images.shape[1] #28\n",
    "    cols = images.shape[2] #28\n",
    "    depth = images.shape[3]#1单通道\n",
    "    \n",
    "    filename = os.path.join(FLAGS.directory,name+'.tfrecords')#整合目录创建新目录\n",
    "    print('Writing',filename)\n",
    "    writer = tf.python_io.TFRecordWriter(filename)\n",
    "    \n",
    "    for index in range(num_examples):\n",
    "        image_raw = images[index].tostring()\n",
    "        #写入协议缓冲区中，height、width、depth、label编码成int64类型image_raw编码成二进制类型\n",
    "        example = tf.train.Example(feature=tf.train.Features(feature={\n",
    "                                                        'height':_int64_feature(rows),\n",
    "                                                        'width':_int64_feature(cols),\n",
    "                                                        'depth':_int64_feature(depth),\n",
    "                                                        'label':_int64_feature(int(labels[index])),\n",
    "                                                        'image_raw':_bytes_feature(image_raw)}))\n",
    "        writer.write(example.SerializeToString())#序列化字符串\n",
    "    writer.close()\n",
    "\n",
    "def _int_64_feature(value):#编码函数\n",
    "    return tf.train.Feature(int64_list=tf.train.Int64List(value=[value]))\n",
    "\n",
    "def _bytes_feature(value):#编码函数\n",
    "    return tf.train.Feature(bytes_list=tf.train.BytesList(value=[value]))"
   ]
  },
  {
   "cell_type": "markdown",
   "metadata": {},
   "source": [
    "#### 2.从队列中读取\n",
    "\n",
    "一旦生成TFRecords文件，接下来就可以使用队列读取数据了（主要分三步）：\n",
    "+ 创建张量，从二进制文件读取一个样本\n",
    "+ 创建张量，从二进制文件随机读取一个mini-batch\n",
    "+ 把每一批张量传入网络作为输入节点"
   ]
  },
  {
   "cell_type": "code",
   "execution_count": null,
   "metadata": {},
   "outputs": [],
   "source": [
    "def read_and_decode(filename_queue):\n",
    "    reader = tf.TFRecordReader()\n",
    "    _,serialized_example = reader.read(filename_queue)\n",
    "    #解析example\n",
    "    features = tf.parse_single_example(serialized_example,\n",
    "                                       #必须写明features里面的key名称\n",
    "                                       feature={\n",
    "                                           'image_raw':tf.FixedLenFeature([],tf.string),#图片是string类型\n",
    "                                           'label':tf.FixedLenFeature([],tf.int64)\n",
    "                                       })\n",
    "    # 对于BytesList，要重新进行解码，把 string 类型的 0 维 Tensor 变成 uint8 类型的一维 Tensor\n",
    "    image = tf.decode_raw(features['image_raw'],tf.uint8)\n",
    "    image.set_shape([mnist.Image_PIXELS])\n",
    "    # \n",
    "    \n",
    "    "
   ]
  }
 ],
 "metadata": {
  "kernelspec": {
   "display_name": "Python 3",
   "language": "python",
   "name": "python3"
  },
  "language_info": {
   "codemirror_mode": {
    "name": "ipython",
    "version": 3
   },
   "file_extension": ".py",
   "mimetype": "text/x-python",
   "name": "python",
   "nbconvert_exporter": "python",
   "pygments_lexer": "ipython3",
   "version": "3.6.1"
  }
 },
 "nbformat": 4,
 "nbformat_minor": 2
}
