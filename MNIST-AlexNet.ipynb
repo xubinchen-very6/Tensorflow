{
 "cells": [
  {
   "cell_type": "code",
   "execution_count": 3,
   "metadata": {},
   "outputs": [
    {
     "name": "stdout",
     "output_type": "stream",
     "text": [
      "Extracting MNIST_data/train-images-idx3-ubyte.gz\n",
      "Extracting MNIST_data/train-labels-idx1-ubyte.gz\n",
      "Extracting MNIST_data/t10k-images-idx3-ubyte.gz\n",
      "Extracting MNIST_data/t10k-labels-idx1-ubyte.gz\n"
     ]
    }
   ],
   "source": [
    "import tensorflow as tf\n",
    "from tensorflow.examples.tutorials.mnist import input_data\n",
    "mnist = input_data.read_data_sets('MNIST_data/',one_hot=True)"
   ]
  },
  {
   "cell_type": "code",
   "execution_count": 39,
   "metadata": {},
   "outputs": [],
   "source": [
    "learning_rate = 0.001\n",
    "training_iters = 200000\n",
    "batch_size = 128\n",
    "display_step = 10"
   ]
  },
  {
   "cell_type": "code",
   "execution_count": 40,
   "metadata": {},
   "outputs": [],
   "source": [
    "n_input = 784\n",
    "n_class = 10\n",
    "dropout = 0.75"
   ]
  },
  {
   "cell_type": "code",
   "execution_count": 41,
   "metadata": {},
   "outputs": [],
   "source": [
    "x = tf.placeholder(tf.float32,[None,n_input])\n",
    "y = tf.placeholder(tf.float32,[None,n_class])\n",
    "keep_prob = tf.placeholder(tf.float32)"
   ]
  },
  {
   "cell_type": "code",
   "execution_count": 42,
   "metadata": {},
   "outputs": [],
   "source": [
    "#卷积操作\n",
    "def conv2d(name,x,W,b,strides=1):\n",
    "    x = tf.nn.conv2d(x,W,strides=[1,strides,strides,1],padding = 'SAME')\n",
    "    x = tf.nn.bias_add(x,b)\n",
    "    return tf.nn.relu(x,name=name)\n",
    "#池化操作\n",
    "def maxpool2d(name,x,k=2):\n",
    "    return tf.nn.max_pool(x,ksize=[1,k,k,1],strides=[1,k,k,1],padding ='SAME',name=name)\n",
    "#规范化操作\n",
    "def norm(name,l_input,lsize=4):\n",
    "    return tf.nn.lrn(l_input,lsize,bias=1.,alpha=0.001/9.0,beta=0.75,name=name)\n"
   ]
  },
  {
   "cell_type": "code",
   "execution_count": 56,
   "metadata": {},
   "outputs": [],
   "source": [
    "weights = {\n",
    "    'wc1':tf.Variable(tf.random_normal([11,11,1,96])),\n",
    "    'wc2':tf.Variable(tf.random_normal([5,5,96,256])),\n",
    "    'wc3':tf.Variable(tf.random_normal([3,3,256,384])),\n",
    "    'wc4':tf.Variable(tf.random_normal([3,3,384,384])),\n",
    "    'wc5':tf.Variable(tf.random_normal([3,3,384,256])),\n",
    "    'wd1':tf.Variable(tf.random_normal([2*2*256,4096])),\n",
    "    'wd2':tf.Variable(tf.random_normal([4096,4096])),\n",
    "    'out':tf.Variable(tf.random_normal([4096,10]))\n",
    "}\n",
    "\n",
    "biases = {\n",
    "    'bc1':tf.Variable(tf.random_normal([96])),\n",
    "    'bc2':tf.Variable(tf.random_normal([256])),\n",
    "    'bc3':tf.Variable(tf.random_normal([384])),\n",
    "    'bc4':tf.Variable(tf.random_normal([384])),\n",
    "    'bc5':tf.Variable(tf.random_normal([256])),\n",
    "    'bd1':tf.Variable(tf.random_normal([4096])),\n",
    "    'bd2':tf.Variable(tf.random_normal([4096])),\n",
    "    'out':tf.Variable(tf.random_normal([10]))\n",
    "}"
   ]
  },
  {
   "cell_type": "code",
   "execution_count": 57,
   "metadata": {},
   "outputs": [],
   "source": [
    "def alex_net(x,weights,biases,dropout):\n",
    "    x = tf.reshape(x,[-1,28,28,1])\n",
    "    \n",
    "    conv1 = conv2d('conv1',x,weights['wc1'],biases['bc1'])\n",
    "    pool1 = maxpool2d('pool1',conv1,2)\n",
    "    norm1 = norm('norm1',pool1,lsize=4)\n",
    "    \n",
    "    conv2 = conv2d('conv2',norm1,weights['wc2'],biases['bc2'])\n",
    "    pool2 = maxpool2d('pool2',conv2,2)\n",
    "    norm2 = norm('norm2',pool2,lsize=4)\n",
    "    \n",
    "    conv3 = conv2d('conv3', norm2, weights['wc3'], biases['bc3'])\n",
    "    pool3 = maxpool2d('pool3', conv3, k=2)\n",
    "    norm3 = norm('norm3', pool3, lsize=4)\n",
    "    \n",
    "    conv4 = conv2d('conv4', norm3, weights['wc4'], biases['bc4'])\n",
    "    conv5 = conv2d('conv5', conv4, weights['wc5'], biases['bc5'])\n",
    "    pool5 = maxpool2d('pool5', conv5, k=2)\n",
    "    norm5 = norm('norm5', pool5, lsize=4)\n",
    "    \n",
    "    fc1 = tf.reshape(norm5,[-1,2*2*256])\n",
    "    fc1 = tf.add(tf.matmul(fc1,weights['wd1']),biases['bd1'])\n",
    "    fc1 = tf.nn.relu(fc1)\n",
    "    fc1 = tf.nn.dropout(fc1,dropout)\n",
    "    \n",
    "    \n",
    "    fc2 = tf.add(tf.matmul(fc1,weights['wd2']),biases['bd2'])\n",
    "    fc2 = tf.nn.relu(fc2)\n",
    "    fc2 = tf.nn.dropout(fc2,dropout)\n",
    "    \n",
    "    out = tf.add(tf.matmul(fc2,weights['out']),biases['out'])\n",
    "    return out"
   ]
  },
  {
   "cell_type": "code",
   "execution_count": 58,
   "metadata": {},
   "outputs": [],
   "source": [
    "pred = alex_net(x,weights,biases,keep_prob)\n",
    "\n",
    "cost = tf.reduce_mean(tf.nn.softmax_cross_entropy_with_logits(logits=pred,labels=y))\n",
    "optimizer = tf.train.AdamOptimizer(learning_rate=learning_rate).minimize(cost)\n",
    "\n",
    "correct_pred = tf.equal(tf.argmax(pred,1),tf.argmax(y,1))\n",
    "accuracy = tf.reduce_mean(tf.cast(correct_pred,tf.float32))"
   ]
  },
  {
   "cell_type": "code",
   "execution_count": null,
   "metadata": {},
   "outputs": [
    {
     "name": "stdout",
     "output_type": "stream",
     "text": [
      "Iter 1280, Minibatch Loss=, 35227.4\n",
      "Training Accuracy=  0.28125\n",
      "Iter 2560, Minibatch Loss=, 19786.7\n",
      "Training Accuracy=  0.421875\n",
      "Iter 3840, Minibatch Loss=, 9594.99\n",
      "Training Accuracy=  0.648438\n",
      "Iter 5120, Minibatch Loss=, 8298.59\n",
      "Training Accuracy=  0.742188\n",
      "Iter 6400, Minibatch Loss=, 2807.21\n",
      "Training Accuracy=  0.867188\n",
      "Iter 7680, Minibatch Loss=, 5230.12\n",
      "Training Accuracy=  0.851562\n",
      "Iter 8960, Minibatch Loss=, 3012.27\n",
      "Training Accuracy=  0.882812\n",
      "Iter 10240, Minibatch Loss=, 2697.16\n",
      "Training Accuracy=  0.914062\n",
      "Iter 11520, Minibatch Loss=, 4105.21\n",
      "Training Accuracy=  0.859375\n",
      "Iter 12800, Minibatch Loss=, 2920.83\n",
      "Training Accuracy=  0.882812\n",
      "Iter 14080, Minibatch Loss=, 5822.77\n",
      "Training Accuracy=  0.84375\n",
      "Iter 15360, Minibatch Loss=, 3192.21\n",
      "Training Accuracy=  0.890625\n",
      "Iter 16640, Minibatch Loss=, 3737.85\n",
      "Training Accuracy=  0.898438\n",
      "Iter 17920, Minibatch Loss=, 2315.04\n",
      "Training Accuracy=  0.9375\n",
      "Iter 19200, Minibatch Loss=, 1499.62\n",
      "Training Accuracy=  0.953125\n",
      "Iter 20480, Minibatch Loss=, 2622.05\n",
      "Training Accuracy=  0.90625\n",
      "Iter 21760, Minibatch Loss=, 1931.31\n",
      "Training Accuracy=  0.9375\n",
      "Iter 23040, Minibatch Loss=, 2091.36\n",
      "Training Accuracy=  0.960938\n",
      "Iter 24320, Minibatch Loss=, 2132.27\n",
      "Training Accuracy=  0.921875\n",
      "Iter 25600, Minibatch Loss=, 1293.94\n",
      "Training Accuracy=  0.945312\n",
      "Iter 26880, Minibatch Loss=, 1214.14\n",
      "Training Accuracy=  0.953125\n",
      "Iter 28160, Minibatch Loss=, 1757.88\n",
      "Training Accuracy=  0.929688\n",
      "Iter 29440, Minibatch Loss=, 2122.34\n",
      "Training Accuracy=  0.945312\n",
      "Iter 30720, Minibatch Loss=, 1459.81\n",
      "Training Accuracy=  0.960938\n",
      "Iter 32000, Minibatch Loss=, 2498.27\n",
      "Training Accuracy=  0.90625\n",
      "Iter 33280, Minibatch Loss=, 1443.44\n",
      "Training Accuracy=  0.953125\n",
      "Iter 34560, Minibatch Loss=, 447.025\n",
      "Training Accuracy=  0.960938\n",
      "Iter 35840, Minibatch Loss=, 2317.47\n",
      "Training Accuracy=  0.929688\n"
     ]
    }
   ],
   "source": [
    "init = tf.global_variables_initializer()\n",
    "with tf.Session() as sess:\n",
    "    sess.run(init)\n",
    "    step = 1\n",
    "    while step*batch_size<training_iters:\n",
    "        batch_x,batch_y = mnist.train.next_batch(batch_size)\n",
    "        sess.run(optimizer,feed_dict={x:batch_x,y:batch_y,keep_prob:dropout})\n",
    "        \n",
    "        if step%display_step == 0:\n",
    "            loss,acc = sess.run([cost,accuracy],feed_dict={x:batch_x,y:batch_y,keep_prob:1.})\n",
    "            print(\"Iter \" + str(step*batch_size) + \", Minibatch Loss=,\", loss)\n",
    "            print('Training Accuracy= ',acc)\n",
    "        \n",
    "        step+=1\n",
    "    print('Optimization Finished')\n",
    "    \n",
    "    print('Testing Accuracy:',sess.run(accuracy,feed_dict={x:mnist.test.images[:256],\n",
    "                                                           y:mnist.test.labels[:256],\n",
    "                                                           keep_prob:1.}))\n",
    "            "
   ]
  },
  {
   "cell_type": "code",
   "execution_count": 54,
   "metadata": {},
   "outputs": [
    {
     "data": {
      "text/plain": [
       "(128, 10)"
      ]
     },
     "execution_count": 54,
     "metadata": {},
     "output_type": "execute_result"
    }
   ],
   "source": [
    "batch_y.shape"
   ]
  },
  {
   "cell_type": "code",
   "execution_count": null,
   "metadata": {},
   "outputs": [],
   "source": []
  }
 ],
 "metadata": {
  "kernelspec": {
   "display_name": "Python 3",
   "language": "python",
   "name": "python3"
  },
  "language_info": {
   "codemirror_mode": {
    "name": "ipython",
    "version": 3
   },
   "file_extension": ".py",
   "mimetype": "text/x-python",
   "name": "python",
   "nbconvert_exporter": "python",
   "pygments_lexer": "ipython3",
   "version": "3.6.1"
  }
 },
 "nbformat": 4,
 "nbformat_minor": 2
}
